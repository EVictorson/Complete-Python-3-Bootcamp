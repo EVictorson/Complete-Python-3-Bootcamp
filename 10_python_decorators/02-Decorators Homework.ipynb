{
 "cells": [
  {
   "cell_type": "markdown",
   "metadata": {},
   "source": [
    "___\n",
    "\n",
    "<a href='https://www.udemy.com/user/joseportilla/'><img src='../Pierian_Data_Logo.png'/></a>\n",
    "___\n",
    "<center><em>Content Copyright by Pierian Data</em></center>"
   ]
  },
  {
   "cell_type": "markdown",
   "metadata": {},
   "source": [
    "# Decorators Homework (Optional)\n",
    "\n",
    "Since you won't run into decorators until further in your coding career, this homework is optional. Check out the Web Framework [Flask](http://flask.pocoo.org/). You can use Flask to create web pages with Python (as long as you know some HTML and CSS) and they use decorators a lot! Learn how they use [view decorators](http://flask.pocoo.org/docs/0.12/patterns/viewdecorators/). Don't worry if you don't completely understand everything about Flask, the main point of this optional homework is that you have an awareness of decorators in Web Frameworks. That way if you decide to become a \"Full-Stack\" Python Web Developer, you won't find yourself perplexed by decorators. You can also check out [Django](https://www.djangoproject.com/) another (and more popular) web framework for Python which is a bit more heavy duty.\n",
    "\n",
    "Also for some additional info:\n",
    "\n",
    "A framework is a type of software library that provides generic functionality which can be extended by the programmer to build applications. Flask and Django are good examples of frameworks intended for web development.\n",
    "\n",
    "A framework is distinguished from a simple library or API. An API is a piece of software that a developer can use in his or her application. A framework is more encompassing: your entire application is structured around the framework (i.e. it provides the framework around which you build your software).\n",
    "\n",
    "## Great job!"
   ]
  },
  {
   "cell_type": "code",
   "execution_count": null,
   "metadata": {},
   "outputs": [],
   "source": []
  },
  {
   "cell_type": "code",
   "execution_count": 39,
   "metadata": {},
   "outputs": [
    {
     "name": "stdout",
     "output_type": "stream",
     "text": [
      "Execution time = 0.00044608116149902344 seconds\n",
      "summation = 499500\n"
     ]
    }
   ],
   "source": [
    "# let's just make our own decorator method quick since there isn't any real homework\n",
    "import time\n",
    "\n",
    "def timing_decorator(function):\n",
    "    '''\n",
    "    decorator for timing function execution\n",
    "    '''\n",
    "    \n",
    "    # note: because we are wrapping functions that take arguments we need to use *args\n",
    "    def wrapper(*args):\n",
    "        start = time.time()\n",
    "        \n",
    "        #note: use *args here for the same reason as above\n",
    "        ret = function(*args)\n",
    "        \n",
    "        stop = time.time()\n",
    "        delta = stop - start\n",
    "        print('Execution time = {} seconds'.format(delta))\n",
    "        \n",
    "        return ret\n",
    "        \n",
    "    return wrapper\n",
    "\n",
    "\n",
    "@timing_decorator\n",
    "def number_sum(num):\n",
    "    ''' \n",
    "    simple function to create a summation\n",
    "    '''\n",
    "    sum = 0\n",
    "    for i in range(num):\n",
    "        sum+=i\n",
    "        \n",
    "    return sum\n",
    "\n",
    "summation = number_sum(1000)\n",
    "print('summation = {}'.format(summation))\n"
   ]
  },
  {
   "cell_type": "code",
   "execution_count": 40,
   "metadata": {},
   "outputs": [
    {
     "name": "stdout",
     "output_type": "stream",
     "text": [
      "Execution time = 2.6226043701171875e-06 seconds\n"
     ]
    }
   ],
   "source": [
    "# The above decorated method is the same as:\n",
    "\n",
    "my_function = timing_decorator(number_sum(10))"
   ]
  },
  {
   "cell_type": "code",
   "execution_count": null,
   "metadata": {},
   "outputs": [],
   "source": []
  },
  {
   "cell_type": "code",
   "execution_count": 42,
   "metadata": {},
   "outputs": [
    {
     "name": "stdout",
     "output_type": "stream",
     "text": [
      "decorating <function my_function at 0x7fd178f89dc0>\n",
      "before function\n",
      "in function\n",
      "after function\n"
     ]
    },
    {
     "data": {
      "text/plain": [
       "12"
      ]
     },
     "execution_count": 42,
     "metadata": {},
     "output_type": "execute_result"
    }
   ],
   "source": [
    "# another good example of implementing decorators from \n",
    "# https://blog.miguelgrinberg.com/post/the-ultimate-guide-to-python-decorators-part-iii-decorators-with-arguments\n",
    "\n",
    "def my_decorator(f):\n",
    "    def wrapped(*args, **kwargs):\n",
    "        print('before function')\n",
    "        response = f(*args, **kwargs)\n",
    "        print('after function')\n",
    "        return response\n",
    "    print('decorating', f)\n",
    "    return wrapped\n",
    "\n",
    "@my_decorator\n",
    "def my_function(a, b):\n",
    "    print('in function')\n",
    "    return a + b\n",
    "\n",
    "my_function(10,2)\n"
   ]
  },
  {
   "cell_type": "code",
   "execution_count": null,
   "metadata": {},
   "outputs": [],
   "source": []
  }
 ],
 "metadata": {
  "kernelspec": {
   "display_name": "Python 3",
   "language": "python",
   "name": "python3"
  },
  "language_info": {
   "codemirror_mode": {
    "name": "ipython",
    "version": 3
   },
   "file_extension": ".py",
   "mimetype": "text/x-python",
   "name": "python",
   "nbconvert_exporter": "python",
   "pygments_lexer": "ipython3",
   "version": "3.8.10"
  }
 },
 "nbformat": 4,
 "nbformat_minor": 1
}
